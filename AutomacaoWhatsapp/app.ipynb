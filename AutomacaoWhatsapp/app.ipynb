{
 "cells": [
  {
   "cell_type": "markdown",
   "metadata": {},
   "source": [
    "# Enviando mensagens com Python"
   ]
  },
  {
   "cell_type": "code",
   "execution_count": 1,
   "metadata": {},
   "outputs": [],
   "source": [
    "# Automação de encaminhamento de mensagens no whatsapp\n",
    "# Usando a Funcionalidade nativa do Whatsapp de encaminhar mensagens\n",
    "# Encaminhar de 5 em 5 mensagens"
   ]
  },
  {
   "cell_type": "markdown",
   "metadata": {},
   "source": [
    "## Importando Bibliotecas"
   ]
  },
  {
   "cell_type": "code",
   "execution_count": 1,
   "metadata": {},
   "outputs": [],
   "source": [
    "from selenium import webdriver\n",
    "from selenium.webdriver.chrome.service import Service\n",
    "from webdriver_manager.chrome import ChromeDriverManager\n",
    "from selenium.webdriver.common.by import By\n",
    "from selenium.webdriver.common.keys import Keys\n",
    "import pyperclip\n",
    "from time import sleep\n",
    "from selenium.webdriver.common.action_chains import ActionChains"
   ]
  },
  {
   "cell_type": "markdown",
   "metadata": {},
   "source": [
    "## Abrindo Navegador"
   ]
  },
  {
   "cell_type": "code",
   "execution_count": 2,
   "metadata": {},
   "outputs": [],
   "source": [
    "options = webdriver.ChromeOptions()\n",
    "# Caso queira usar em segundo plano, utilize a option abaixo\n",
    "options.add_argument(\"--headless=new\")\n",
    "service = Service(ChromeDriverManager().install())\n",
    "browser = webdriver.Chrome(service=service)\n",
    "\n",
    "browser.get(\"https://web.whatsapp.com/\")\n",
    "sleep(60)"
   ]
  },
  {
   "cell_type": "markdown",
   "metadata": {},
   "source": [
    "## Declarando Variaveis"
   ]
  },
  {
   "cell_type": "markdown",
   "metadata": {},
   "source": [
    "\n",
    " Na primeira variavel, temos a mensagem a ser enviada, na segunda, os contatos em que a mensagem será disparada."
   ]
  },
  {
   "cell_type": "code",
   "execution_count": 26,
   "metadata": {},
   "outputs": [],
   "source": [
    "msg = \"\"\"\n",
    "    Olá! Isto é apenas um teste.\n",
    "\"\"\"\n",
    "contatos = [\"Grupo0\",\"Grupo1\", \"Grupo2\", \"Grupo3\", \"Grupo4\"]"
   ]
  },
  {
   "cell_type": "markdown",
   "metadata": {},
   "source": [
    "## Enviando Mensagem"
   ]
  },
  {
   "cell_type": "markdown",
   "metadata": {},
   "source": [
    "### Buscando o primerio contato"
   ]
  },
  {
   "cell_type": "code",
   "execution_count": null,
   "metadata": {},
   "outputs": [],
   "source": [
    "browser.find_element(By.XPATH, '//*[@id=\"side\"]/div[1]/div/div/button/div[2]/span').click()\n",
    "browser.find_element(By.XPATH, '//*[@id=\"side\"]/div[1]/div/div/div[2]/div/div[1]/p').send_keys(\"Grupo0\", Keys.ENTER)\n",
    "sleep(0.5)"
   ]
  },
  {
   "cell_type": "markdown",
   "metadata": {},
   "source": [
    "### Encaminhando a mensagem para o primerio contato"
   ]
  },
  {
   "cell_type": "markdown",
   "metadata": {},
   "source": [
    "Inicialmente a mensagem vai ser enviada para uma só pessoa, pois vamos copiar encaminhar ela a partir do primeiro contato"
   ]
  },
  {
   "cell_type": "code",
   "execution_count": null,
   "metadata": {},
   "outputs": [],
   "source": [
    "pyperclip.copy(msg)\n",
    "browser.find_element(By.XPATH, '//*[@id=\"main\"]/footer/div[1]/div/span[2]/div/div[2]/div[1]/div[2]/div[1]/p').click()\n",
    "browser.find_element(By.XPATH, '//*[@id=\"main\"]/footer/div[1]/div/span[2]/div/div[2]/div[1]/div[2]/div[1]/p').send_keys(Keys.CONTROL + \"v\")\n",
    "browser.find_element(By.XPATH, '//*[@id=\"main\"]/footer/div[1]/div/span[2]/div/div[2]/div[1]/div[2]/div[1]/p').send_keys(Keys.ENTER)\n",
    "sleep(0.5)"
   ]
  },
  {
   "cell_type": "markdown",
   "metadata": {},
   "source": [
    "### Encaminhando para os outros contatos"
   ]
  },
  {
   "cell_type": "code",
   "execution_count": 27,
   "metadata": {},
   "outputs": [],
   "source": [
    "\n",
    "qtdContatos = len(contatos)\n",
    "listElements = browser.find_elements(By.CLASS_NAME, '_2AOIt')\n",
    "sleep(20)\n",
    "\n",
    "# No whatsapp temos um bloqueio de no maximo 5 pessoas para encaminhar a mensagem, então se a a quantidade de pessoas for maior do que 5, \n",
    "# precisamos dividir em mais um grupo e repetir o processo\n",
    "if qtdContatos % 5 == 0:\n",
    "    qtdBlocos = qtdContatos // 5\n",
    "else:\n",
    "    qtdBlocos = int(qtdContatos // 5) + 1\n",
    "\n",
    "for i in range(qtdBlocos):\n",
    "    iInicial = i * 5 \n",
    "    iFinal = (i + 1) * 5\n",
    "    listEnviar = contatos[iInicial:iFinal]\n",
    "\n",
    "    for item in listElements:\n",
    "        msg = msg.replace(\"\\n\", \"\")\n",
    "        texto = item.text.replace(\"\\n\", \"\")\n",
    "        elemento = item\n",
    "        \n",
    "\n",
    "    # Seleciona a mensagem para enviar e abre a caixa para encaminhar\n",
    "    ActionChains(browser).move_to_element(elemento).perform()\n",
    "    elemento.find_element(By.CLASS_NAME, '_2T2Kt').click()\n",
    "    sleep(0.5)\n",
    "    browser.find_element(By.XPATH, '//*[@id=\"app\"]/div/span[4]/div/ul/div/li[4]/div').click()\n",
    "    browser.find_element(By.XPATH, '//*[@id=\"main\"]/span[2]/div/button[4]/span').click()\n",
    "    sleep(0.5)\n",
    "\n",
    "    # Enviando a mensagem para cada contato da lista\n",
    "    for nome in listEnviar:\n",
    "        # Selecionar contato e apertar enter\n",
    "        browser.find_element(By.XPATH, '//*[@id=\"app\"]/div/span[2]/div/div/div/div/div/div/div/div[1]/div/div/div[2]/div/div[1]/p').send_keys(nome)\n",
    "        sleep(0.2)\n",
    "        browser.find_element(By.XPATH, '//*[@id=\"app\"]/div/span[2]/div/div/div/div/div/div/div/div[1]/div/div/div[2]/div/div[1]/p').send_keys(Keys.ENTER)\n",
    "        \n",
    "        # aperar delete\n",
    "        browser.find_element(By.XPATH, '//*[@id=\"app\"]/div/span[2]/div/div/div/div/div/div/div/div[1]/div/div/div[2]/div/div[1]/p').send_keys(Keys.BACK_SPACE)\n",
    "    browser.find_element(By.XPATH, '//*[@id=\"app\"]/div/span[2]/div/div/div/div/div/div/div/span/div/div/div/span').click()\n",
    "    sleep(3)"
   ]
  }
 ],
 "metadata": {
  "kernelspec": {
   "display_name": "Python 3",
   "language": "python",
   "name": "python3"
  },
  "language_info": {
   "codemirror_mode": {
    "name": "ipython",
    "version": 3
   },
   "file_extension": ".py",
   "mimetype": "text/x-python",
   "name": "python",
   "nbconvert_exporter": "python",
   "pygments_lexer": "ipython3",
   "version": "3.11.4"
  },
  "orig_nbformat": 4
 },
 "nbformat": 4,
 "nbformat_minor": 2
}
